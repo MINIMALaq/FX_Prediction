{
 "cells": [
  {
   "cell_type": "code",
   "execution_count": 8,
   "metadata": {},
   "outputs": [
    {
     "name": "stdout",
     "output_type": "stream",
     "text": [
      "AUDCAD\n",
      "WIN percent = 35.747634074298716\n",
      "GBPCAD\n",
      "WIN percent = 29.360848853412023\n",
      "GBPAUD\n",
      "WIN percent = 22.83525375319739\n",
      "EURUSD\n",
      "WIN percent = 32.363448342627024\n",
      "USDCHF\n",
      "WIN percent = 24.990276089760844\n",
      "CADCHF\n",
      "WIN percent = 26.090644402185596\n",
      "EURGBP\n",
      "WIN percent = 30.616898497530727\n",
      "EURJPY\n",
      "WIN percent = 28.61243251672382\n",
      "EURCHF\n",
      "WIN percent = 39.09773059190217\n",
      "CADJPY\n",
      "WIN percent = 27.73098915234931\n",
      "USDJPY\n",
      "WIN percent = 22.4376783170528\n",
      "CHFJPY\n",
      "WIN percent = 28.981919698488017\n",
      "GBPNZD\n",
      "WIN percent = 26.229738741799828\n",
      "NZDCAD\n",
      "WIN percent = 26.364789530424794\n",
      "AUDNZD\n",
      "WIN percent = 31.23888359396399\n",
      "USDCAD\n",
      "WIN percent = 18.478860960143653\n",
      "EURNZD\n",
      "WIN percent = 28.627053476324964\n",
      "GBPCHF\n",
      "WIN percent = 32.61182185647997\n",
      "AUDCHF\n",
      "WIN percent = 16.35884944420373\n",
      "NZDJPY\n",
      "WIN percent = 26.848578270789886\n",
      "NZDUSD\n",
      "WIN percent = 21.869887285697633\n",
      "GBPUSD\n",
      "WIN percent = 30.11187091274874\n",
      "EURAUD\n",
      "WIN percent = 24.3653788920524\n",
      "AUDUSD\n",
      "WIN percent = 16.60912520939011\n",
      "AUDJPY\n",
      "WIN percent = 25.485334852856656\n",
      "NZDCHF\n",
      "WIN percent = 25.494645484909835\n",
      "GBPJPY\n",
      "WIN percent = 26.094221460026436\n",
      "EURCAD\n",
      "WIN percent = 21.7247699508583\n"
     ]
    }
   ],
   "source": [
    "import pandas as pd\n",
    "import os\n",
    "\n",
    "base = './files/all/'\n",
    "files = os.listdir(base)\n",
    "fnames = ['dt_end', 'dt_start', 'start', 'label', 'tp', 'before_avg', 'before_density',\n",
    "          'day_of_week', 'kind', 'red_diff', 'blu_diff', 'diff_to_first', 'result']\n",
    "for file in files:\n",
    "    print(file[0:6])\n",
    "    df = pd.read_csv(base + file, names=fnames, skiprows=1)\n",
    "    print(f\"WIN percent of = {df['result'].describe().mean()}\")\n"
   ]
  },
  {
   "cell_type": "code",
   "execution_count": null,
   "metadata": {},
   "outputs": [],
   "source": []
  }
 ],
 "metadata": {
  "kernelspec": {
   "display_name": "Python 3",
   "language": "python",
   "name": "python3"
  },
  "language_info": {
   "codemirror_mode": {
    "name": "ipython",
    "version": 3
   },
   "file_extension": ".py",
   "mimetype": "text/x-python",
   "name": "python",
   "nbconvert_exporter": "python",
   "pygments_lexer": "ipython3",
   "version": "3.7.6"
  }
 },
 "nbformat": 4,
 "nbformat_minor": 4
}
