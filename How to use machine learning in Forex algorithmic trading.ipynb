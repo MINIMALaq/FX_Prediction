{
 "cells": [
  {
   "cell_type": "code",
   "execution_count": 5,
   "metadata": {},
   "outputs": [
    {
     "name": "stdout",
     "output_type": "stream",
     "text": [
      "\n"
     ]
    }
   ],
   "source": [
    "# import pandas as pd\n",
    "import os\n",
    "\n",
    "# base = './files/all/'\n",
    "# files = os.listdir(base)\n",
    "# fnames = ['dt_end', 'dt_start', 'start', 'label', 'tp', 'before_avg', 'before_density',\n",
    "#           'day_of_week', 'kind', 'red_diff', 'blu_diff', 'diff_to_first', 'result']\n",
    "# for file in files:\n",
    "#     df = pd.read_csv(base + file, names=fnames, skiprows=1)\n",
    "#     print(f\"Win percent of {file[0:6]} = {df['result'].describe().mean()}\")\n",
    "print()\n"
   ]
  },
  {
   "cell_type": "code",
   "execution_count": null,
   "metadata": {},
   "outputs": [],
   "source": [
    "'''\n",
    "At first I started with describing datasets.\n",
    "How to preprocessd TS data for using Machine learning method on it.\n",
    "Resampling or other methods to get rid of imbalanced data\n",
    "Choosing the right currency by unsupervised learning.\n",
    "Chossing the right model and why to use it?\n",
    "\n",
    "\n",
    "\n",
    "'''"
   ]
  }
 ],
 "metadata": {
  "kernelspec": {
   "display_name": "Python 3",
   "language": "python",
   "name": "python3"
  },
  "language_info": {
   "codemirror_mode": {
    "name": "ipython",
    "version": 3
   },
   "file_extension": ".py",
   "mimetype": "text/x-python",
   "name": "python",
   "nbconvert_exporter": "python",
   "pygments_lexer": "ipython3",
   "version": "3.7.6"
  }
 },
 "nbformat": 4,
 "nbformat_minor": 4
}
