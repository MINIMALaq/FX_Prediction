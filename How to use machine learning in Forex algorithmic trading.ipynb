{
 "cells": [
  {
   "cell_type": "code",
   "execution_count": 11,
   "metadata": {},
   "outputs": [
    {
     "name": "stdout",
     "output_type": "stream",
     "text": [
      "Win percent of AUDCAD = 35.747634074298716\n",
      "Win percent of GBPCAD = 29.360848853412023\n",
      "Win percent of GBPAUD = 22.83525375319739\n",
      "Win percent of EURUSD = 32.363448342627024\n",
      "Win percent of USDCHF = 24.990276089760844\n",
      "Win percent of CADCHF = 26.090644402185596\n",
      "Win percent of EURGBP = 30.616898497530727\n",
      "Win percent of EURJPY = 28.61243251672382\n",
      "Win percent of EURCHF = 39.09773059190217\n",
      "Win percent of CADJPY = 27.73098915234931\n",
      "Win percent of USDJPY = 22.4376783170528\n",
      "Win percent of CHFJPY = 28.981919698488017\n",
      "Win percent of GBPNZD = 26.229738741799828\n",
      "Win percent of NZDCAD = 26.364789530424794\n",
      "Win percent of AUDNZD = 31.23888359396399\n",
      "Win percent of USDCAD = 18.478860960143653\n",
      "Win percent of EURNZD = 28.627053476324964\n",
      "Win percent of GBPCHF = 32.61182185647997\n",
      "Win percent of AUDCHF = 16.35884944420373\n",
      "Win percent of NZDJPY = 26.848578270789886\n",
      "Win percent of NZDUSD = 21.869887285697633\n",
      "Win percent of GBPUSD = 30.11187091274874\n",
      "Win percent of EURAUD = 24.3653788920524\n",
      "Win percent of AUDUSD = 16.60912520939011\n",
      "Win percent of AUDJPY = 25.485334852856656\n",
      "Win percent of NZDCHF = 25.494645484909835\n",
      "Win percent of GBPJPY = 26.094221460026436\n",
      "Win percent of EURCAD = 21.7247699508583\n"
     ]
    }
   ],
   "source": [
    "import pandas as pd\n",
    "import os\n",
    "\n",
    "base = './files/all/'\n",
    "files = os.listdir(base)\n",
    "fnames = ['dt_end', 'dt_start', 'start', 'label', 'tp', 'before_avg', 'before_density',\n",
    "          'day_of_week', 'kind', 'red_diff', 'blu_diff', 'diff_to_first', 'result']\n",
    "for file in files:\n",
    "    df = pd.read_csv(base + file, names=fnames, skiprows=1)\n",
    "    print(f\"Win percent of {file[0:6]} = {df['result'].describe().mean()}\")\n"
   ]
  },
  {
   "cell_type": "code",
   "execution_count": null,
   "metadata": {},
   "outputs": [],
   "source": []
  }
 ],
 "metadata": {
  "kernelspec": {
   "display_name": "Python 3",
   "language": "python",
   "name": "python3"
  },
  "language_info": {
   "codemirror_mode": {
    "name": "ipython",
    "version": 3
   },
   "file_extension": ".py",
   "mimetype": "text/x-python",
   "name": "python",
   "nbconvert_exporter": "python",
   "pygments_lexer": "ipython3",
   "version": "3.7.6"
  }
 },
 "nbformat": 4,
 "nbformat_minor": 4
}
